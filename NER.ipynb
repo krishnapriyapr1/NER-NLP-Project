{
  "nbformat": 4,
  "nbformat_minor": 0,
  "metadata": {
    "colab": {
      "provenance": []
    },
    "kernelspec": {
      "name": "python3",
      "display_name": "Python 3"
    },
    "language_info": {
      "name": "python"
    }
  },
  "cells": [
    {
      "cell_type": "code",
      "execution_count": 2,
      "metadata": {
        "colab": {
          "base_uri": "https://localhost:8080/"
        },
        "id": "-IOx3uegaDyD",
        "outputId": "f2d36542-3ac3-4d27-9dbc-4373181eec48"
      },
      "outputs": [
        {
          "output_type": "stream",
          "name": "stdout",
          "text": [
            "Mounted at /content/drive\n"
          ]
        }
      ],
      "source": [
        "import os, sys\n",
        "from google.colab import drive\n",
        "drive.mount('/content/drive')\n",
        "os.chdir(\"/content/drive/My Drive/Colab Notebooks\")\n",
        "sys.path.append(\"/content/drive/My Drive/Colab Notebooks\")"
      ]
    },
    {
      "cell_type": "code",
      "source": [
        "import nltk\n",
        "nltk.download('punkt')\n",
        "nltk.download('maxent_ne_chunker')\n",
        "nltk.download('words')\n",
        "nltk.download('averaged_perceptron_tagger')\n"
      ],
      "metadata": {
        "colab": {
          "base_uri": "https://localhost:8080/"
        },
        "id": "TjfY3MbVaqcK",
        "outputId": "9646030d-07e1-4031-dec8-f6978912c50b"
      },
      "execution_count": 3,
      "outputs": [
        {
          "output_type": "stream",
          "name": "stderr",
          "text": [
            "[nltk_data] Downloading package punkt to /root/nltk_data...\n",
            "[nltk_data]   Unzipping tokenizers/punkt.zip.\n",
            "[nltk_data] Downloading package maxent_ne_chunker to\n",
            "[nltk_data]     /root/nltk_data...\n",
            "[nltk_data]   Unzipping chunkers/maxent_ne_chunker.zip.\n",
            "[nltk_data] Downloading package words to /root/nltk_data...\n",
            "[nltk_data]   Unzipping corpora/words.zip.\n",
            "[nltk_data] Downloading package averaged_perceptron_tagger to\n",
            "[nltk_data]     /root/nltk_data...\n",
            "[nltk_data]   Unzipping taggers/averaged_perceptron_tagger.zip.\n"
          ]
        },
        {
          "output_type": "execute_result",
          "data": {
            "text/plain": [
              "True"
            ]
          },
          "metadata": {},
          "execution_count": 3
        }
      ]
    },
    {
      "cell_type": "code",
      "source": [
        "import requests\n",
        "\n",
        "def fetch_news_article(api_key):\n",
        "    url = f\"https://newsapi.org/v2/top-headlines?country=us&apiKey={api_key}\"\n",
        "    response = requests.get(url)\n",
        "    articles = response.json().get('articles', [])\n",
        "    if articles:\n",
        "        title = articles[0].get('title', '')\n",
        "        description = articles[0].get('description', '')\n",
        "        return (title if title else \"\") + \" \" + (description if description else \"\")\n",
        "    else:\n",
        "        return None\n",
        "\n",
        "api_key = 'd0d145ba3dbd4f608f02d3f3161bc49a'\n",
        "article = fetch_news_article(api_key)\n",
        "print(article)\n"
      ],
      "metadata": {
        "colab": {
          "base_uri": "https://localhost:8080/"
        },
        "id": "VKtphnOka6dt",
        "outputId": "e75f650d-4fb6-487d-8e9d-e235b50958ae"
      },
      "execution_count": 4,
      "outputs": [
        {
          "output_type": "stream",
          "name": "stdout",
          "text": [
            "Giants' Blake Snell throws first no-hitter of career vs. Reds - The New York Times \n"
          ]
        }
      ]
    },
    {
      "cell_type": "code",
      "source": [
        "import nltk\n",
        "from nltk import word_tokenize, pos_tag, ne_chunk\n",
        "\n",
        "def nltk_named_entity_recognition(text):\n",
        "    words = word_tokenize(text)\n",
        "    pos_tags = pos_tag(words)\n",
        "    tree = ne_chunk(pos_tags)\n",
        "    named_entities = []\n",
        "\n",
        "    for subtree in tree:\n",
        "        if isinstance(subtree, nltk.Tree):\n",
        "            entity_name = \" \".join([leaf[0] for leaf in subtree.leaves()])\n",
        "            entity_type = subtree.label()\n",
        "            named_entities.append((entity_name, entity_type))\n",
        "\n",
        "    return named_entities\n",
        "\n",
        "nltk_entities = nltk_named_entity_recognition(article)\n",
        "print(nltk_entities)\n"
      ],
      "metadata": {
        "colab": {
          "base_uri": "https://localhost:8080/"
        },
        "id": "7dF--bwZcB1c",
        "outputId": "18527d90-8c31-44de-ce76-3038b1ce2d03"
      },
      "execution_count": 5,
      "outputs": [
        {
          "output_type": "stream",
          "name": "stdout",
          "text": [
            "[('Blake Snell', 'PERSON'), ('Reds', 'ORGANIZATION'), ('New York Times', 'GPE')]\n"
          ]
        }
      ]
    },
    {
      "cell_type": "code",
      "source": [
        "import spacy\n",
        "\n",
        "def spacy_named_entity_recognition(text):\n",
        "    nlp = spacy.load('en_core_web_sm')\n",
        "    doc = nlp(text)\n",
        "    named_entities = [(ent.text, ent.label_) for ent in doc.ents]\n",
        "    return named_entities\n",
        "\n",
        "spacy_entities = spacy_named_entity_recognition(article)\n",
        "print(spacy_entities)\n"
      ],
      "metadata": {
        "colab": {
          "base_uri": "https://localhost:8080/"
        },
        "id": "uO-0jxmXcZyE",
        "outputId": "193b2d1d-dd96-4386-fd35-a86e49235be7"
      },
      "execution_count": 6,
      "outputs": [
        {
          "output_type": "stream",
          "name": "stdout",
          "text": [
            "[('Giants', 'ORG'), ('Blake Snell', 'PERSON'), ('first', 'ORDINAL'), ('Reds - The New York Times', 'ORG')]\n"
          ]
        }
      ]
    },
    {
      "cell_type": "code",
      "source": [
        "def compare_entities(nltk_entities, spacy_entities):\n",
        "    nltk_set = set(nltk_entities)\n",
        "    spacy_set = set(spacy_entities)\n",
        "\n",
        "    common_entities = nltk_set.intersection(spacy_set)\n",
        "    unique_nltk_entities = nltk_set - spacy_set\n",
        "    unique_spacy_entities = spacy_set - nltk_set\n",
        "\n",
        "    return {\n",
        "        \"common_entities\": common_entities,\n",
        "        \"unique_nltk_entities\": unique_nltk_entities,\n",
        "        \"unique_spacy_entities\": unique_spacy_entities\n",
        "    }\n",
        "\n",
        "comparison = compare_entities(nltk_entities, spacy_entities)\n",
        "print(\"Common Entities:\", comparison[\"common_entities\"])\n",
        "print(\"Unique NLTK Entities:\", comparison[\"unique_nltk_entities\"])\n",
        "print(\"Unique SpaCy Entities:\", comparison[\"unique_spacy_entities\"])\n"
      ],
      "metadata": {
        "colab": {
          "base_uri": "https://localhost:8080/"
        },
        "id": "vzJG4EzRchS7",
        "outputId": "66115edd-4487-4aa5-d739-f04f8dcbbe60"
      },
      "execution_count": 7,
      "outputs": [
        {
          "output_type": "stream",
          "name": "stdout",
          "text": [
            "Common Entities: {('Blake Snell', 'PERSON')}\n",
            "Unique NLTK Entities: {('Reds', 'ORGANIZATION'), ('New York Times', 'GPE')}\n",
            "Unique SpaCy Entities: {('Giants', 'ORG'), ('first', 'ORDINAL'), ('Reds - The New York Times', 'ORG')}\n"
          ]
        }
      ]
    },
    {
      "cell_type": "code",
      "source": [
        "def summarize_results(article, comparison):\n",
        "    summary = f\"\"\"\n",
        "    News Article: {article}\n",
        "\n",
        "    Comparison of Named Entity Recognition:\n",
        "\n",
        "    Common Entities:\n",
        "    {comparison['common_entities']}\n",
        "\n",
        "    Unique Entities (NLTK):\n",
        "    {comparison['unique_nltk_entities']}\n",
        "\n",
        "    Unique Entities (SpaCy):\n",
        "    {comparison['unique_spacy_entities']}\n",
        "\n",
        "    Observations:\n",
        "    - SpaCy, being a machine learning-based approach, tends to identify entities more accurately and can recognize a wider range of entity types.\n",
        "    - NLTK, being a rule-based approach, might miss some entities or classify them incorrectly, especially in complex or ambiguous cases.\n",
        "    - SpaCy can be more robust in recognizing entities in different contexts, while NLTK may require more fine-tuning for different types of texts.\n",
        "\n",
        "    Conclusions:\n",
        "    - The choice between SpaCy and NLTK for named entity recognition depends on the specific requirements of the task. For general purposes and higher accuracy, SpaCy is recommended. For simple tasks or when rule-based precision is needed, NLTK can be used.\n",
        "    \"\"\"\n",
        "    return summary\n",
        "\n",
        "summary = summarize_results(article, comparison)\n",
        "print(summary)\n"
      ],
      "metadata": {
        "colab": {
          "base_uri": "https://localhost:8080/"
        },
        "id": "tCJFVfh9ck4s",
        "outputId": "f95f88be-fc23-48fc-ce4b-b134fe2d9e7f"
      },
      "execution_count": 8,
      "outputs": [
        {
          "output_type": "stream",
          "name": "stdout",
          "text": [
            "\n",
            "    News Article: Giants' Blake Snell throws first no-hitter of career vs. Reds - The New York Times \n",
            "\n",
            "    Comparison of Named Entity Recognition:\n",
            "\n",
            "    Common Entities:\n",
            "    {('Blake Snell', 'PERSON')}\n",
            "\n",
            "    Unique Entities (NLTK):\n",
            "    {('Reds', 'ORGANIZATION'), ('New York Times', 'GPE')}\n",
            "\n",
            "    Unique Entities (SpaCy):\n",
            "    {('Giants', 'ORG'), ('first', 'ORDINAL'), ('Reds - The New York Times', 'ORG')}\n",
            "\n",
            "    Observations:\n",
            "    - SpaCy, being a machine learning-based approach, tends to identify entities more accurately and can recognize a wider range of entity types.\n",
            "    - NLTK, being a rule-based approach, might miss some entities or classify them incorrectly, especially in complex or ambiguous cases.\n",
            "    - SpaCy can be more robust in recognizing entities in different contexts, while NLTK may require more fine-tuning for different types of texts.\n",
            "\n",
            "    Conclusions:\n",
            "    - The choice between SpaCy and NLTK for named entity recognition depends on the specific requirements of the task. For general purposes and higher accuracy, SpaCy is recommended. For simple tasks or when rule-based precision is needed, NLTK can be used.\n",
            "    \n"
          ]
        }
      ]
    }
  ]
}